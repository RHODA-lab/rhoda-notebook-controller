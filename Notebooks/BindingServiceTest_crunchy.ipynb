{
 "cells": [
  {
   "cell_type": "code",
   "execution_count": null,
   "id": "ced30e4c-ed87-4222-9787-3703341fe1a8",
   "metadata": {},
   "outputs": [],
   "source": [
    "!pip install pyservicebinding\n",
    "!pip install psycopg2-binary\n"
   ]
  },
  {
   "cell_type": "code",
   "execution_count": null,
   "id": "aae82131-dca1-48b5-aed6-958deca2dbf3",
   "metadata": {},
   "outputs": [],
   "source": [
    "import os\n",
    "import pyservicebinding\n",
    "from pyservicebinding import binding\n",
    "\n",
    "if 'SERVICE_BINDING_ROOT' in os.environ:\n",
    "    print('DB binding ok')\n",
    "else:\n",
    "    print('DB binding missing')"
   ]
  },
  {
   "cell_type": "code",
   "execution_count": null,
   "id": "60dbd4e8-2848-4630-b4a3-5d98ea8b8c96",
   "metadata": {},
   "outputs": [],
   "source": [
    "sb = binding.ServiceBinding()\n",
    "bindings_list = sb.bindings('postgresql', 'Red Hat DBaaS / Crunchy Bridge')"
   ]
  },
  {
   "cell_type": "code",
   "execution_count": null,
   "id": "0a117793-eb5a-48b2-b02d-adb849a29117",
   "metadata": {},
   "outputs": [],
   "source": [
    "import psycopg2\n",
    "import psycopg2.errorcodes"
   ]
  },
  {
   "cell_type": "code",
   "execution_count": null,
   "id": "a81dd455-0b09-4881-9c1e-2a2fab42a9c7",
   "metadata": {},
   "outputs": [],
   "source": [
    "import psycopg2\n",
    "import psycopg2.errorcodes\n",
    "import time\n",
    "import logging\n",
    "import random\n",
    "db_connection = psycopg2.connect(database=bindings_list[0].get('database'), \\\n",
    "    user=bindings_list[0].get('username'), \\\n",
    "    password=bindings_list[0].get('password'), \\\n",
    "    host=bindings_list[0].get('host'), \\\n",
    "    port=bindings_list[0].get('port'))\n",
    "print(db_connection)"
   ]
  },
  {
   "cell_type": "code",
   "execution_count": null,
   "id": "7362ed97-425f-4bfd-a159-b6c22a4a4a1d",
   "metadata": {},
   "outputs": [],
   "source": [
    "import pandas as pd\n",
    "cur = db_connection.cursor()\n",
    "cur.execute(\"SELECT * FROM bluebook_small\")\n",
    "logging.debug(\"select_all(): status message: {}\".format(cur.statusmessage))\n",
    "df = pd.DataFrame(cur.fetchall(), columns = ['Price','Mileage','Make','Model','Trim','Type','Cylinder','Liter','Doors','Cruise','Sound','Leather'])\n",
    "df.head()"
   ]
  },
  {
   "cell_type": "code",
   "execution_count": null,
   "id": "6743722b-9e35-48c3-8ece-daa431a93658",
   "metadata": {},
   "outputs": [],
   "source": [
    "import seaborn as sns\n",
    "import csv\n",
    "import numpy as np\n",
    "import pandas as pd\n",
    "import datetime\n",
    "import matplotlib.pyplot as plt\n",
    "%matplotlib inline\n",
    "import zipfile\n",
    "from IPython.display import display, Latex, Markdown\n",
    "#import plotly.express as px\n",
    "#import plotly.graph_objs as go\n",
    "plt.rcParams['font.sans-serif'] = \"Comic Sans MS\"\n",
    "import warnings; warnings.simplefilter('ignore')\n",
    "from numpy import mean\n",
    "from numpy import std\n",
    "from sklearn.datasets import make_regression\n",
    "from sklearn.model_selection import cross_val_score\n",
    "from sklearn.model_selection import RepeatedKFold\n",
    "from sklearn.feature_selection import RFE\n",
    "from sklearn.tree import DecisionTreeRegressor\n",
    "from sklearn.pipeline import Pipeline"
   ]
  },
  {
   "cell_type": "code",
   "execution_count": null,
   "id": "b22ce120-addd-4582-b900-c8623be013eb",
   "metadata": {},
   "outputs": [],
   "source": [
    "from sklearn.preprocessing import LabelEncoder \n",
    "  \n",
    "le = LabelEncoder()\n",
    "df['Make']= le.fit_transform(df['Make']) \n",
    "df['Model']= le.fit_transform(df['Model']) \n",
    "df['Trim']= le.fit_transform(df['Trim']) \n",
    "df['Type']= le.fit_transform(df['Type'])\n",
    "df"
   ]
  },
  {
   "cell_type": "code",
   "execution_count": null,
   "id": "09086e81-7cf7-4ce4-8fa9-966216540316",
   "metadata": {},
   "outputs": [],
   "source": [
    "X = df.drop('Price', 1)\n",
    "X = X.apply(pd.to_numeric)\n",
    "y = df['Price']\n",
    "y = y.apply(pd.to_numeric)"
   ]
  },
  {
   "cell_type": "code",
   "execution_count": null,
   "id": "ddb5452b-bf65-4cf9-acef-d88b512f6d94",
   "metadata": {},
   "outputs": [],
   "source": [
    "import statsmodels.api as sm\n",
    "from sklearn.preprocessing import StandardScaler\n",
    "scale = StandardScaler()\n",
    "X[['Mileage', 'Make', 'Model', 'Trim', 'Type', 'Cylinder', 'Liter', 'Doors', 'Cruise', 'Sound', 'Leather']] = scale.fit_transform(X[['Mileage', 'Make', 'Model', 'Trim', 'Type', 'Cylinder', 'Liter', 'Doors', 'Cruise', 'Sound', 'Leather']].values)"
   ]
  },
  {
   "cell_type": "code",
   "execution_count": null,
   "id": "50bbc5ba-1b39-4fe4-aa7b-add783b51c9c",
   "metadata": {},
   "outputs": [],
   "source": [
    "X"
   ]
  },
  {
   "cell_type": "code",
   "execution_count": null,
   "id": "b83cca75-8d56-43da-98c4-5453ddcf0e81",
   "metadata": {},
   "outputs": [],
   "source": [
    "# evaluate RFE for regression\n",
    "from numpy import mean\n",
    "from numpy import std\n",
    "from sklearn.datasets import make_regression\n",
    "from sklearn.model_selection import cross_val_score\n",
    "from sklearn.model_selection import RepeatedKFold\n",
    "from sklearn.feature_selection import RFE\n",
    "from sklearn.tree import DecisionTreeRegressor\n",
    "from sklearn.pipeline import Pipeline\n",
    "\n",
    "# create pipeline\n",
    "rfe = RFE(estimator=DecisionTreeRegressor(), n_features_to_select=5)\n",
    "model = DecisionTreeRegressor()\n",
    "pipeline = Pipeline(steps=[('s',rfe),('m',model)])\n",
    "# evaluate model\n",
    "cv = RepeatedKFold(n_splits=10, n_repeats=3, random_state=1)\n",
    "n_scores = cross_val_score(pipeline, X, y, scoring='neg_mean_absolute_error', cv=cv, n_jobs=-1, error_score='raise')\n",
    "# report performance\n",
    "print('MAE: %.3f (%.3f)' % (mean(n_scores), std(n_scores)))"
   ]
  },
  {
   "cell_type": "code",
   "execution_count": null,
   "id": "0c466fe3-f32b-4e17-85db-2cf382a894e2",
   "metadata": {},
   "outputs": [],
   "source": [
    "feature_name = X.columns.tolist()\n",
    "num_feats = len(feature_name)"
   ]
  },
  {
   "cell_type": "code",
   "execution_count": null,
   "id": "cffa38f2-42bc-429d-9f1f-f3e5c03b8d8d",
   "metadata": {},
   "outputs": [],
   "source": [
    "# create pipeline\n",
    "from sklearn.model_selection import train_test_split\n",
    "rfe = RFE(estimator=DecisionTreeRegressor(), n_features_to_select=5)\n",
    "model = DecisionTreeRegressor()\n",
    "pipeline = Pipeline(steps=[('s',rfe),('m',model)])\n",
    "# fit the model on all available data\n",
    "X_train, X_test, y_train, y_test = train_test_split(X,y, test_size = 0.3, random_state = 0)\n",
    "pipeline.fit(X_train, y_train)\n",
    "yhat = pipeline.predict(X_test)\n",
    "#print(yhat)\n",
    "# summarize all features\n",
    "for i in range(X_train.shape[1]):\n",
    "    print('Column: %d, %s, Selected %s, Rank: %.3f' % (i, feature_name[i], rfe.support_[i], rfe.ranking_[i]))\n",
    "print(\"PREDICTED VALUE\\n\", pd.DataFrame(data=yhat[:20]), \"\\nTEST VALUE\\n\", y_test[:20])"
   ]
  },
  {
   "cell_type": "raw",
   "id": "375ba584-fe86-4ea8-babc-d30b4fd55b70",
   "metadata": {},
   "source": [
    "import sys\n",
    "!conda install --yes --prefix {sys.prefix} plotly\n"
   ]
  },
  {
   "cell_type": "code",
   "execution_count": null,
   "id": "4584abb1-04e2-42e3-afef-823803075aad",
   "metadata": {},
   "outputs": [],
   "source": [
    "import plotly.express as px\n",
    "import plotly.graph_objs as go\n",
    "fig = go.Figure()\n",
    "count = 20\n",
    "fig.add_trace(go.Scatter(x = X_test[:count], y = y_test[:count], mode = 'markers', name = 'actual', marker=dict(size=10,color=1)))\n",
    "fig.add_trace(go.Scatter(x = X_test[:count], y = yhat[:count], mode = 'markers', name = 'predictions', marker=dict(size=10,color=3)))\n",
    "fig.update_layout( yaxis_title = 'Price')"
   ]
  },
  {
   "cell_type": "code",
   "execution_count": null,
   "id": "f073be8c-d36d-4dda-9959-ea1aacf65f26",
   "metadata": {},
   "outputs": [],
   "source": []
  }
 ],
 "metadata": {
  "kernelspec": {
   "display_name": "Python 3",
   "language": "python",
   "name": "python3"
  },
  "language_info": {
   "codemirror_mode": {
    "name": "ipython",
    "version": 3
   },
   "file_extension": ".py",
   "mimetype": "text/x-python",
   "name": "python",
   "nbconvert_exporter": "python",
   "pygments_lexer": "ipython3",
   "version": "3.8.10"
  }
 },
 "nbformat": 4,
 "nbformat_minor": 5
}
