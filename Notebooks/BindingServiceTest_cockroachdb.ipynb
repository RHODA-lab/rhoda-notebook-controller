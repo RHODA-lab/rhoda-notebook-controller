{
 "cells": [
  {
   "cell_type": "code",
   "execution_count": null,
   "id": "ad0a2209-b3c9-411b-a38e-a7905a4eaeaa",
   "metadata": {},
   "outputs": [],
   "source": [
    "!pip install pyservicebinding\n",
    "!pip install psycopg2-binary"
   ]
  },
  {
   "cell_type": "code",
   "execution_count": null,
   "id": "03c11bf2-3c8f-4910-9357-f7ebb2187c11",
   "metadata": {},
   "outputs": [],
   "source": [
    "import os\n",
    "import pyservicebinding\n",
    "from pyservicebinding import binding\n",
    "\n",
    "if 'SERVICE_BINDING_ROOT' in os.environ:\n",
    "    print('DB binding ok')\n",
    "else:\n",
    "    print('DB binding missing')"
   ]
  },
  {
   "cell_type": "code",
   "execution_count": null,
   "id": "4962bec4-ec5f-4bfd-81bb-50648b3dcaa0",
   "metadata": {},
   "outputs": [],
   "source": [
    "sb = binding.ServiceBinding()\n",
    "bindings_list = sb.bindings('postgresql', 'CockroachDB Cloud')"
   ]
  },
  {
   "cell_type": "code",
   "execution_count": null,
   "id": "c9b4bf60-b56d-4f80-9c33-417f8293db02",
   "metadata": {},
   "outputs": [],
   "source": [
    "import psycopg2\n",
    "import psycopg2.errorcodes\n",
    "with open('./root.crt', 'w') as f:\n",
    "    f.write(bindings_list[0].get('root.crt'))\n",
    "db_connection = psycopg2.connect(database=bindings_list[0].get('database'), \\\n",
    "    user=bindings_list[0].get('username'), \\\n",
    "    password=bindings_list[0].get('password'), \\\n",
    "    sslmode=bindings_list[0].get('sslmode'), \\\n",
    "    sslrootcert='./root.crt', \\\n",
    "    host=bindings_list[0].get('host'), \\\n",
    "    options=bindings_list[0].get('options'), \\\n",
    "    port=bindings_list[0].get('port'))\n",
    "print(db_connection)"
   ]
  },
  {
   "cell_type": "code",
   "execution_count": null,
   "id": "f073be8c-d36d-4dda-9959-ea1aacf65f26",
   "metadata": {},
   "outputs": [],
   "source": [
    "import pandas as pd\n",
    "\n",
    "cursor = db_connection.cursor()\n",
    "cursor.execute(\"SELECT id, balance FROM accounts\")\n",
    "df = pd.DataFrame(cursor.fetchall(), columns = ['ID', 'Amount'])\n",
    "df.head()"
   ]
  },
  {
   "cell_type": "code",
   "execution_count": null,
   "id": "c1a918a4-b944-46d8-b6c2-365dcd62e00e",
   "metadata": {},
   "outputs": [],
   "source": []
  }
 ],
 "metadata": {
  "kernelspec": {
   "display_name": "Python 3",
   "language": "python",
   "name": "python3"
  },
  "language_info": {
   "codemirror_mode": {
    "name": "ipython",
    "version": 3
   },
   "file_extension": ".py",
   "mimetype": "text/x-python",
   "name": "python",
   "nbconvert_exporter": "python",
   "pygments_lexer": "ipython3",
   "version": "3.8.10"
  },
  "toc-autonumbering": true,
  "toc-showcode": false,
  "toc-showtags": true
 },
 "nbformat": 4,
 "nbformat_minor": 5
}
