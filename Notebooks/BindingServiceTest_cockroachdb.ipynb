{
 "cells": [
  {
   "cell_type": "markdown",
   "id": "50c1e3d0-f038-4fd4-832e-0f0be0014b15",
   "metadata": {},
   "source": [
    "# Connect to CockroachDB Cloud using pyservicebinding"
   ]
  },
  {
   "cell_type": "markdown",
   "id": "1cc5e355-2bea-4dfb-9ef3-c69b9a712f49",
   "metadata": {},
   "source": [
    "## Install prerequisite libraries for Service Binding and PostgreSQL (CockroachDB) API access."
   ]
  },
  {
   "cell_type": "code",
   "execution_count": 14,
   "id": "a6ce0636-e9ae-498b-9119-cd19a506cf06",
   "metadata": {},
   "outputs": [
    {
     "name": "stdout",
     "output_type": "stream",
     "text": [
      "Requirement already satisfied: pyservicebinding in /opt/conda/lib/python3.8/site-packages (0.3.0)\n",
      "Requirement already satisfied: PyYAML in /opt/conda/lib/python3.8/site-packages (from pyservicebinding) (5.4.1)\n",
      "Requirement already satisfied: psycopg2-binary in /opt/conda/lib/python3.8/site-packages (2.9.3)\n"
     ]
    }
   ],
   "source": [
    "!pip install pyservicebinding\n",
    "!pip install psycopg2-binary"
   ]
  },
  {
   "cell_type": "markdown",
   "id": "695db85f-be96-41f4-828e-3129b6180932",
   "metadata": {},
   "source": [
    "## Check if the Service Binding has been setup."
   ]
  },
  {
   "cell_type": "code",
   "execution_count": 7,
   "id": "03c11bf2-3c8f-4910-9357-f7ebb2187c11",
   "metadata": {},
   "outputs": [
    {
     "name": "stdout",
     "output_type": "stream",
     "text": [
      "DB binding ok\n"
     ]
    }
   ],
   "source": [
    "import os\n",
    "import pyservicebinding\n",
    "from pyservicebinding import binding\n",
    "\n",
    "if 'SERVICE_BINDING_ROOT' in os.environ:\n",
    "    print('DB binding ok')\n",
    "else:\n",
    "    print('DB binding missing')"
   ]
  },
  {
   "cell_type": "markdown",
   "id": "8273ca12-064c-4636-ae9d-cca2630e773d",
   "metadata": {},
   "source": [
    "## Using pyservicebinding library get credentials for CockroachDB Cloud."
   ]
  },
  {
   "cell_type": "code",
   "execution_count": 8,
   "id": "4962bec4-ec5f-4bfd-81bb-50648b3dcaa0",
   "metadata": {},
   "outputs": [
    {
     "name": "stdout",
     "output_type": "stream",
     "text": [
      "CockroachDB instance - found\n"
     ]
    }
   ],
   "source": [
    "sb = binding.ServiceBinding()\n",
    "bindings_list = sb.bindings('postgresql', 'CockroachDB Cloud')\n",
    "if (len(bindings_list)) > 0:\n",
    "    print('CockroachDB instance - found')\n",
    "else:\n",
    "    print('CockroachDB instance - not found')"
   ]
  },
  {
   "cell_type": "markdown",
   "id": "692aa931-021c-4ea1-8c3e-572925c42622",
   "metadata": {},
   "source": [
    "## Use the credentials from the service binding to connect securely (SSL) to CockroachDB Cloud."
   ]
  },
  {
   "cell_type": "code",
   "execution_count": 9,
   "id": "c9b4bf60-b56d-4f80-9c33-417f8293db02",
   "metadata": {},
   "outputs": [
    {
     "name": "stdout",
     "output_type": "stream",
     "text": [
      "<connection object at 0x7f27c192d900; dsn: 'user=kubeflow_user.a_new_test_cluster_6e2d20b40c password=xxx dbname=defaultdb host=free-tier14.aws-us-east-1.cockroachlabs.cloud port=26257 options=--cluster=a-new-test-cluster-1075 sslmode=verify-full sslrootcert=./root.crt', closed: 0>\n"
     ]
    }
   ],
   "source": [
    "import psycopg2\n",
    "import psycopg2.errorcodes\n",
    "with open('./root.crt', 'w') as f:\n",
    "    f.write(bindings_list[0].get('root.crt'))\n",
    "db_connection = psycopg2.connect(database=bindings_list[0].get('database'), \\\n",
    "    user=bindings_list[0].get('username'), \\\n",
    "    password=bindings_list[0].get('password'), \\\n",
    "    sslmode=bindings_list[0].get('sslmode'), \\\n",
    "    sslrootcert='./root.crt', \\\n",
    "    host=bindings_list[0].get('host'), \\\n",
    "    options=bindings_list[0].get('options'), \\\n",
    "    port=bindings_list[0].get('port'))\n",
    "print(db_connection)"
   ]
  },
  {
   "cell_type": "markdown",
   "id": "1088d4fa-6e99-42a4-a270-7fbee2e67a53",
   "metadata": {},
   "source": [
    "## On the connected Postgres database, run a SQL query on the **accounts** table <br>and ingest the results into a Pandas dataframe for processing the data."
   ]
  },
  {
   "cell_type": "code",
   "execution_count": 15,
   "id": "f073be8c-d36d-4dda-9959-ea1aacf65f26",
   "metadata": {},
   "outputs": [
    {
     "data": {
      "text/html": [
       "<div>\n",
       "<style scoped>\n",
       "    .dataframe tbody tr th:only-of-type {\n",
       "        vertical-align: middle;\n",
       "    }\n",
       "\n",
       "    .dataframe tbody tr th {\n",
       "        vertical-align: top;\n",
       "    }\n",
       "\n",
       "    .dataframe thead th {\n",
       "        text-align: right;\n",
       "    }\n",
       "</style>\n",
       "<table border=\"1\" class=\"dataframe\">\n",
       "  <thead>\n",
       "    <tr style=\"text-align: right;\">\n",
       "      <th></th>\n",
       "      <th>ID</th>\n",
       "      <th>Amount</th>\n",
       "    </tr>\n",
       "  </thead>\n",
       "  <tbody>\n",
       "    <tr>\n",
       "      <th>0</th>\n",
       "      <td>1</td>\n",
       "      <td>900</td>\n",
       "    </tr>\n",
       "    <tr>\n",
       "      <th>1</th>\n",
       "      <td>2</td>\n",
       "      <td>350</td>\n",
       "    </tr>\n",
       "  </tbody>\n",
       "</table>\n",
       "</div>"
      ],
      "text/plain": [
       "   ID  Amount\n",
       "0   1     900\n",
       "1   2     350"
      ]
     },
     "execution_count": 15,
     "metadata": {},
     "output_type": "execute_result"
    }
   ],
   "source": [
    "import pandas as pd\n",
    "\n",
    "cursor = db_connection.cursor()\n",
    "cursor.execute(\"SELECT id, balance FROM accounts\")\n",
    "df = pd.DataFrame(cursor.fetchall(), columns = ['ID', 'Amount'])\n",
    "df.head()"
   ]
  },
  {
   "cell_type": "code",
   "execution_count": null,
   "id": "832c18f1-12e5-48bc-aeb5-98774d2e4292",
   "metadata": {},
   "outputs": [],
   "source": []
  }
 ],
 "metadata": {
  "kernelspec": {
   "display_name": "Python 3",
   "language": "python",
   "name": "python3"
  },
  "language_info": {
   "codemirror_mode": {
    "name": "ipython",
    "version": 3
   },
   "file_extension": ".py",
   "mimetype": "text/x-python",
   "name": "python",
   "nbconvert_exporter": "python",
   "pygments_lexer": "ipython3",
   "version": "3.8.10"
  },
  "toc-autonumbering": true,
  "toc-showcode": false,
  "toc-showtags": true
 },
 "nbformat": 4,
 "nbformat_minor": 5
}
