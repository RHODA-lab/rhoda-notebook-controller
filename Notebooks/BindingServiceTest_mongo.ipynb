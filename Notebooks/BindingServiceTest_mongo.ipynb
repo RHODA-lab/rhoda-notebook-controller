{
 "cells": [
  {
   "cell_type": "code",
   "execution_count": null,
   "id": "ad0a2209-b3c9-411b-a38e-a7905a4eaeaa",
   "metadata": {},
   "outputs": [],
   "source": [
    "!pip install pyservicebinding\n",
    "!pip install pymongo\n",
    "!pip install \"pymongo[srv]\""
   ]
  },
  {
   "cell_type": "code",
   "execution_count": null,
   "id": "03c11bf2-3c8f-4910-9357-f7ebb2187c11",
   "metadata": {},
   "outputs": [],
   "source": [
    "import os\n",
    "import pyservicebinding\n",
    "from pyservicebinding import binding\n",
    "\n",
    "if 'SERVICE_BINDING_ROOT' in os.environ:\n",
    "    print('DB binding ok')\n",
    "else:\n",
    "    print('DB binding missing')"
   ]
  },
  {
   "cell_type": "code",
   "execution_count": null,
   "id": "4962bec4-ec5f-4bfd-81bb-50648b3dcaa0",
   "metadata": {},
   "outputs": [],
   "source": [
    "sb = binding.ServiceBinding()\n",
    "bindings_list = sb.bindings('mongodb', 'Red Hat DBaaS / MongoDB Atlas')"
   ]
  },
  {
   "cell_type": "code",
   "execution_count": null,
   "id": "c9b4bf60-b56d-4f80-9c33-417f8293db02",
   "metadata": {},
   "outputs": [],
   "source": [
    "import pymongo\n",
    "from pymongo import MongoClient\n",
    "import urllib.parse\n",
    "\n",
    "username = urllib.parse.quote_plus(bindings_list[0].get('username'))\n",
    "password = urllib.parse.quote_plus(bindings_list[0].get('password'))\n",
    "hostname = urllib.parse.quote_plus(bindings_list[0].get('host'))\n",
    "client = MongoClient('mongodb+srv://%s:%s@%s/' % (username, password, hostname))"
   ]
  },
  {
   "cell_type": "code",
   "execution_count": null,
   "id": "ecd3eb8f-74f9-48e6-b8e1-27e376540c77",
   "metadata": {},
   "outputs": [],
   "source": [
    "for db_name in client.list_database_names():\n",
    "  db = client[db_name]\n",
    "  for coll_name in db.list_collection_names():\n",
    "    if coll_name == 'fruit':\n",
    "      print(\"Database: {}, Collection:{}\".format(db_name, coll_name))\n",
    "      for r in db[coll_name].find({}):\n",
    "        print(r)\n",
    "      break"
   ]
  },
  {
   "cell_type": "code",
   "execution_count": null,
   "id": "f073be8c-d36d-4dda-9959-ea1aacf65f26",
   "metadata": {},
   "outputs": [],
   "source": []
  }
 ],
 "metadata": {
  "kernelspec": {
   "display_name": "Python 3",
   "language": "python",
   "name": "python3"
  },
  "language_info": {
   "codemirror_mode": {
    "name": "ipython",
    "version": 3
   },
   "file_extension": ".py",
   "mimetype": "text/x-python",
   "name": "python",
   "nbconvert_exporter": "python",
   "pygments_lexer": "ipython3",
   "version": "3.8.10"
  },
  "toc-autonumbering": true,
  "toc-showcode": false,
  "toc-showtags": true
 },
 "nbformat": 4,
 "nbformat_minor": 5
}
