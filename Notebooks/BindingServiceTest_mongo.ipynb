{
 "cells": [
  {
   "cell_type": "markdown",
   "id": "8dafa901-7459-400c-9d5d-635807ef49e6",
   "metadata": {},
   "source": [
    "# Connect to MongoDB Atlas using pyservicebinding"
   ]
  },
  {
   "cell_type": "markdown",
   "id": "da53e3d0-7ea2-4371-a2b3-baa39506c4e9",
   "metadata": {},
   "source": [
    "## Install prerequisite libraries for Service Binding and MongoDB API access."
   ]
  },
  {
   "cell_type": "code",
   "execution_count": 43,
   "id": "2c0cfef1-0632-4a46-989a-00a0714cda60",
   "metadata": {},
   "outputs": [
    {
     "name": "stdout",
     "output_type": "stream",
     "text": [
      "Requirement already satisfied: pyservicebinding in /opt/conda/lib/python3.8/site-packages (0.3.0)\n",
      "Requirement already satisfied: PyYAML in /opt/conda/lib/python3.8/site-packages (from pyservicebinding) (5.4.1)\n",
      "Requirement already satisfied: pymongo in /opt/conda/lib/python3.8/site-packages (4.1.1)\n",
      "Requirement already satisfied: pymongo[srv] in /opt/conda/lib/python3.8/site-packages (4.1.1)\n",
      "Requirement already satisfied: dnspython<3.0.0,>=1.16.0 in /opt/conda/lib/python3.8/site-packages (from pymongo[srv]) (2.2.1)\n"
     ]
    }
   ],
   "source": [
    "!pip install pyservicebinding\n",
    "!pip install pymongo\n",
    "!pip install \"pymongo[srv]\""
   ]
  },
  {
   "cell_type": "markdown",
   "id": "ab7e8a70-d39b-40f7-bf53-f38d0885ac22",
   "metadata": {},
   "source": [
    "## Check if the Service Binding has been setup."
   ]
  },
  {
   "cell_type": "code",
   "execution_count": 34,
   "id": "03c11bf2-3c8f-4910-9357-f7ebb2187c11",
   "metadata": {},
   "outputs": [
    {
     "name": "stdout",
     "output_type": "stream",
     "text": [
      "Service Binding - ok\n"
     ]
    }
   ],
   "source": [
    "import os\n",
    "import pyservicebinding\n",
    "from pyservicebinding import binding\n",
    "\n",
    "if 'SERVICE_BINDING_ROOT' in os.environ:\n",
    "    print('Service Binding - ok')\n",
    "else:\n",
    "    print('Service Binding - missing')"
   ]
  },
  {
   "cell_type": "markdown",
   "id": "1094b8cd-ce1c-4779-8266-0f1e32be5267",
   "metadata": {},
   "source": [
    "## Using pyservicebinding library get credentials for MongoDB."
   ]
  },
  {
   "cell_type": "code",
   "execution_count": 35,
   "id": "4962bec4-ec5f-4bfd-81bb-50648b3dcaa0",
   "metadata": {},
   "outputs": [
    {
     "name": "stdout",
     "output_type": "stream",
     "text": [
      "MongoDB instance - found\n"
     ]
    }
   ],
   "source": [
    "sb = binding.ServiceBinding()\n",
    "bindings_list = sb.bindings('mongodb', 'Red Hat DBaaS / MongoDB Atlas')\n",
    "if (len(bindings_list)) > 0:\n",
    "    print('MongoDB instance - found')\n",
    "else:\n",
    "    print('MongoDB instance - not found')      "
   ]
  },
  {
   "cell_type": "markdown",
   "id": "3d20e845-46b7-43d4-a454-9f909aed4a0a",
   "metadata": {},
   "source": [
    "## Use the credentials from the service binding to connect to MongoDB Atlas cloud."
   ]
  },
  {
   "cell_type": "code",
   "execution_count": 41,
   "id": "c9b4bf60-b56d-4f80-9c33-417f8293db02",
   "metadata": {},
   "outputs": [
    {
     "name": "stdout",
     "output_type": "stream",
     "text": [
      "MongoClient(host=['cluster0-shard-00-00.gy65h.mongodb.net:27017', 'cluster0-shard-00-02.gy65h.mongodb.net:27017', 'cluster0-shard-00-01.gy65h.mongodb.net:27017'], document_class=dict, tz_aware=False, connect=True, authsource='admin', replicaset='atlas-1rijjh-shard-0', tls=True, serverselectiontimeoutms=10)\n"
     ]
    }
   ],
   "source": [
    "import pymongo\n",
    "from pymongo import MongoClient\n",
    "import urllib.parse\n",
    "\n",
    "username = urllib.parse.quote_plus(bindings_list[0].get('username'))\n",
    "password = urllib.parse.quote_plus(bindings_list[0].get('password'))\n",
    "hostname = urllib.parse.quote_plus(bindings_list[0].get('host'))\n",
    "ConnectionString = 'mongodb+srv://%s:%s@%s/' % (username, password, hostname)\n",
    "maxSevSelDelay = 10 # Assume 10ms maximum server selection delay\n",
    "try:\n",
    "    client = MongoClient(ConnectionString, serverSelectionTimeoutMS=maxSevSelDelay)\n",
    "    print(client) \n",
    "except pymongo.errors.ServerSelectionTimeoutError as err:\n",
    "    print(err)"
   ]
  },
  {
   "cell_type": "markdown",
   "id": "d2b135fe-9f52-40ba-8b52-0e8532c1e67f",
   "metadata": {},
   "source": [
    "## On the connected MongoDB Atlas project, walk through the dabases and collections to find a collection named **fruit**."
   ]
  },
  {
   "cell_type": "code",
   "execution_count": 39,
   "id": "ecd3eb8f-74f9-48e6-b8e1-27e376540c77",
   "metadata": {},
   "outputs": [
    {
     "name": "stdout",
     "output_type": "stream",
     "text": [
      "Database: fruit, Collection:fruit\n",
      "{'_id': ObjectId('620f40a0291ded31c333949c'), 'name': 'Mango', 'description': 'King of fruits'}\n",
      "{'_id': ObjectId('620fd0f3291ded31c333949d'), 'name': 'banana', 'description': 'easy and cheap'}\n",
      "{'_id': ObjectId('621336ee92eb200db2150ff7'), 'name': 'grapefruit', 'description': 'i need a godiva after that'}\n",
      "{'_id': ObjectId('6213b256fe32944e14a698d0'), 'name': 'strawberry', 'description': 'red in color'}\n",
      "{'_id': ObjectId('6215538d961d3651f42e3991'), 'name': 'chocoberry', 'description': 'Strawberry dipped in chocolate'}\n",
      "{'_id': ObjectId('6229452c181e761ac2c79f1b'), 'name': 'grapes', 'description': 'purple ones'}\n",
      "{'_id': ObjectId('623971ec661dfe0289d10644'), 'name': 'Jackfruit', 'description': 'sold my car to buy it'}\n"
     ]
    }
   ],
   "source": [
    "for db_name in client.list_database_names():\n",
    "  db = client[db_name]\n",
    "  for coll_name in db.list_collection_names():\n",
    "    if coll_name == 'fruit':\n",
    "      print(\"Database: {}, Collection:{}\".format(db_name, coll_name))\n",
    "      for r in db[coll_name].find({}):\n",
    "        print(r)\n",
    "      break"
   ]
  },
  {
   "cell_type": "code",
   "execution_count": null,
   "id": "f073be8c-d36d-4dda-9959-ea1aacf65f26",
   "metadata": {},
   "outputs": [],
   "source": []
  }
 ],
 "metadata": {
  "kernelspec": {
   "display_name": "Python 3",
   "language": "python",
   "name": "python3"
  },
  "language_info": {
   "codemirror_mode": {
    "name": "ipython",
    "version": 3
   },
   "file_extension": ".py",
   "mimetype": "text/x-python",
   "name": "python",
   "nbconvert_exporter": "python",
   "pygments_lexer": "ipython3",
   "version": "3.8.10"
  },
  "toc-autonumbering": true,
  "toc-showcode": false,
  "toc-showtags": true
 },
 "nbformat": 4,
 "nbformat_minor": 5
}
